{
 "cells": [
  {
   "cell_type": "code",
   "execution_count": 1,
   "metadata": {},
   "outputs": [],
   "source": [
    "import pandas as pd\n",
    "import numpy as np"
   ]
  },
  {
   "cell_type": "code",
   "execution_count": 3,
   "metadata": {},
   "outputs": [],
   "source": [
    "df = pd.read_json('G:\\phonepe\\data-20220828T073602Z-001\\data\\\\aggregated\\\\transaction\\country\\india\\\\2018\\\\1.json')"
   ]
  },
  {
   "cell_type": "code",
   "execution_count": 4,
   "metadata": {},
   "outputs": [
    {
     "data": {
      "text/html": [
       "<div>\n",
       "<style scoped>\n",
       "    .dataframe tbody tr th:only-of-type {\n",
       "        vertical-align: middle;\n",
       "    }\n",
       "\n",
       "    .dataframe tbody tr th {\n",
       "        vertical-align: top;\n",
       "    }\n",
       "\n",
       "    .dataframe thead th {\n",
       "        text-align: right;\n",
       "    }\n",
       "</style>\n",
       "<table border=\"1\" class=\"dataframe\">\n",
       "  <thead>\n",
       "    <tr style=\"text-align: right;\">\n",
       "      <th></th>\n",
       "      <th>success</th>\n",
       "      <th>code</th>\n",
       "      <th>data</th>\n",
       "      <th>responseTimestamp</th>\n",
       "    </tr>\n",
       "  </thead>\n",
       "  <tbody>\n",
       "    <tr>\n",
       "      <th>from</th>\n",
       "      <td>True</td>\n",
       "      <td>SUCCESS</td>\n",
       "      <td>1514745000000</td>\n",
       "      <td>1630346628866</td>\n",
       "    </tr>\n",
       "    <tr>\n",
       "      <th>to</th>\n",
       "      <td>True</td>\n",
       "      <td>SUCCESS</td>\n",
       "      <td>1522175400000</td>\n",
       "      <td>1630346628866</td>\n",
       "    </tr>\n",
       "    <tr>\n",
       "      <th>transactionData</th>\n",
       "      <td>True</td>\n",
       "      <td>SUCCESS</td>\n",
       "      <td>[{'name': 'Recharge &amp; bill payments', 'payment...</td>\n",
       "      <td>1630346628866</td>\n",
       "    </tr>\n",
       "  </tbody>\n",
       "</table>\n",
       "</div>"
      ],
      "text/plain": [
       "                 success     code  \\\n",
       "from                True  SUCCESS   \n",
       "to                  True  SUCCESS   \n",
       "transactionData     True  SUCCESS   \n",
       "\n",
       "                                                              data  \\\n",
       "from                                                 1514745000000   \n",
       "to                                                   1522175400000   \n",
       "transactionData  [{'name': 'Recharge & bill payments', 'payment...   \n",
       "\n",
       "                 responseTimestamp  \n",
       "from                 1630346628866  \n",
       "to                   1630346628866  \n",
       "transactionData      1630346628866  "
      ]
     },
     "execution_count": 4,
     "metadata": {},
     "output_type": "execute_result"
    }
   ],
   "source": [
    "df"
   ]
  },
  {
   "cell_type": "code",
   "execution_count": 5,
   "metadata": {},
   "outputs": [],
   "source": [
    "df2 = pd.read_json('G:\\phonepe\\data-20220828T073602Z-001\\data\\\\aggregated\\\\transaction\\country\\india\\\\2018\\\\2.json')"
   ]
  },
  {
   "cell_type": "code",
   "execution_count": 6,
   "metadata": {},
   "outputs": [
    {
     "data": {
      "text/html": [
       "<div>\n",
       "<style scoped>\n",
       "    .dataframe tbody tr th:only-of-type {\n",
       "        vertical-align: middle;\n",
       "    }\n",
       "\n",
       "    .dataframe tbody tr th {\n",
       "        vertical-align: top;\n",
       "    }\n",
       "\n",
       "    .dataframe thead th {\n",
       "        text-align: right;\n",
       "    }\n",
       "</style>\n",
       "<table border=\"1\" class=\"dataframe\">\n",
       "  <thead>\n",
       "    <tr style=\"text-align: right;\">\n",
       "      <th></th>\n",
       "      <th>success</th>\n",
       "      <th>code</th>\n",
       "      <th>data</th>\n",
       "      <th>responseTimestamp</th>\n",
       "    </tr>\n",
       "  </thead>\n",
       "  <tbody>\n",
       "    <tr>\n",
       "      <th>from</th>\n",
       "      <td>True</td>\n",
       "      <td>SUCCESS</td>\n",
       "      <td>1522521000000</td>\n",
       "      <td>1630501481910</td>\n",
       "    </tr>\n",
       "    <tr>\n",
       "      <th>to</th>\n",
       "      <td>True</td>\n",
       "      <td>SUCCESS</td>\n",
       "      <td>1530124200000</td>\n",
       "      <td>1630501481910</td>\n",
       "    </tr>\n",
       "    <tr>\n",
       "      <th>transactionData</th>\n",
       "      <td>True</td>\n",
       "      <td>SUCCESS</td>\n",
       "      <td>[{'name': 'Recharge &amp; bill payments', 'payment...</td>\n",
       "      <td>1630501481910</td>\n",
       "    </tr>\n",
       "  </tbody>\n",
       "</table>\n",
       "</div>"
      ],
      "text/plain": [
       "                 success     code  \\\n",
       "from                True  SUCCESS   \n",
       "to                  True  SUCCESS   \n",
       "transactionData     True  SUCCESS   \n",
       "\n",
       "                                                              data  \\\n",
       "from                                                 1522521000000   \n",
       "to                                                   1530124200000   \n",
       "transactionData  [{'name': 'Recharge & bill payments', 'payment...   \n",
       "\n",
       "                 responseTimestamp  \n",
       "from                 1630501481910  \n",
       "to                   1630501481910  \n",
       "transactionData      1630501481910  "
      ]
     },
     "execution_count": 6,
     "metadata": {},
     "output_type": "execute_result"
    }
   ],
   "source": [
    "df2"
   ]
  },
  {
   "cell_type": "code",
   "execution_count": 10,
   "metadata": {},
   "outputs": [],
   "source": [
    "# df1=pd.read_json(\"C:/Users/basha/OneDrive/Desktop/transaction/hover/country/india/state/andaman-_-nicobar-islands/2018/1.json\")\n",
    "df1 = pd.read_json('G:\\phonepe\\data-20220828T073602Z-001\\data\\map\\\\transaction\\hover\\country\\india\\state\\\\andaman-_-nicobar-islands\\\\2018\\\\1.json')\n",
    "data1 = df1.iloc[0].to_json()\n",
    "data1 = pd.read_json(data1)\n",
    "data1['year']=2018\n",
    "data1[\"state\"]=\"Andaman-_-nicobar-islands\"\n",
    "data1[\"quarter\"]=\"q1\"\n",
    "data1 = data1[['data','year','state','quarter']]\n",
    "df = data1\n",
    "df['name'] = df['data'].apply(lambda x:x['name'])\n",
    "df['type'] = df['data'].apply(lambda x:x['metric'][0]['type'])\n",
    "df['count'] = df['data'].apply(lambda x:x['metric'][0]['count'])\n",
    "df['amount'] = df['data'].apply(lambda x:round(x['metric'][0]['amount']))\n",
    "ani1 = df.iloc[:,1:]"
   ]
  },
  {
   "cell_type": "code",
   "execution_count": 12,
   "metadata": {},
   "outputs": [
    {
     "data": {
      "text/html": [
       "<div>\n",
       "<style scoped>\n",
       "    .dataframe tbody tr th:only-of-type {\n",
       "        vertical-align: middle;\n",
       "    }\n",
       "\n",
       "    .dataframe tbody tr th {\n",
       "        vertical-align: top;\n",
       "    }\n",
       "\n",
       "    .dataframe thead th {\n",
       "        text-align: right;\n",
       "    }\n",
       "</style>\n",
       "<table border=\"1\" class=\"dataframe\">\n",
       "  <thead>\n",
       "    <tr style=\"text-align: right;\">\n",
       "      <th></th>\n",
       "      <th>year</th>\n",
       "      <th>state</th>\n",
       "      <th>quarter</th>\n",
       "      <th>name</th>\n",
       "      <th>type</th>\n",
       "      <th>count</th>\n",
       "      <th>amount</th>\n",
       "    </tr>\n",
       "  </thead>\n",
       "  <tbody>\n",
       "    <tr>\n",
       "      <th>0</th>\n",
       "      <td>2018</td>\n",
       "      <td>Andaman-_-nicobar-islands</td>\n",
       "      <td>q1</td>\n",
       "      <td>north and middle andaman district</td>\n",
       "      <td>TOTAL</td>\n",
       "      <td>442</td>\n",
       "      <td>931663</td>\n",
       "    </tr>\n",
       "    <tr>\n",
       "      <th>1</th>\n",
       "      <td>2018</td>\n",
       "      <td>Andaman-_-nicobar-islands</td>\n",
       "      <td>q1</td>\n",
       "      <td>south andaman district</td>\n",
       "      <td>TOTAL</td>\n",
       "      <td>5688</td>\n",
       "      <td>12560249</td>\n",
       "    </tr>\n",
       "    <tr>\n",
       "      <th>2</th>\n",
       "      <td>2018</td>\n",
       "      <td>Andaman-_-nicobar-islands</td>\n",
       "      <td>q1</td>\n",
       "      <td>nicobars district</td>\n",
       "      <td>TOTAL</td>\n",
       "      <td>528</td>\n",
       "      <td>1139849</td>\n",
       "    </tr>\n",
       "  </tbody>\n",
       "</table>\n",
       "</div>"
      ],
      "text/plain": [
       "   year                      state quarter                               name  \\\n",
       "0  2018  Andaman-_-nicobar-islands      q1  north and middle andaman district   \n",
       "1  2018  Andaman-_-nicobar-islands      q1             south andaman district   \n",
       "2  2018  Andaman-_-nicobar-islands      q1                  nicobars district   \n",
       "\n",
       "    type  count    amount  \n",
       "0  TOTAL    442    931663  \n",
       "1  TOTAL   5688  12560249  \n",
       "2  TOTAL    528   1139849  "
      ]
     },
     "execution_count": 12,
     "metadata": {},
     "output_type": "execute_result"
    }
   ],
   "source": [
    "for i in range(4):\n",
    "    df1 = pd.read_json('G:\\phonepe\\data-20220828T073602Z-001\\data\\map\\\\transaction\\hover\\country\\india\\state\\\\andaman-_-nicobar-islands\\\\2018\\\\1.json')\n",
    "    data1 = df1.iloc[0].to_json()\n",
    "    data1 = pd.read_json(data1)\n",
    "    data1['year']=2018\n",
    "    data1[\"state\"]=\"Andaman-_-nicobar-islands\"\n",
    "    data1[\"quarter\"]=\"q1\"\n",
    "    data1 = data1[['data','year','state','quarter']]\n",
    "    df = data1\n",
    "    df['name'] = df['data'].apply(lambda x:x['name'])\n",
    "    df['type'] = df['data'].apply(lambda x:x['metric'][0]['type'])\n",
    "    df['count'] = df['data'].apply(lambda x:x['metric'][0]['count'])\n",
    "    df['amount'] = df['data'].apply(lambda x:round(x['metric'][0]['amount']))\n",
    "    ani1 = df.iloc[:,1:]"
   ]
  }
 ],
 "metadata": {
  "kernelspec": {
   "display_name": "Python 3.10.6 64-bit (windows store)",
   "language": "python",
   "name": "python3"
  },
  "language_info": {
   "codemirror_mode": {
    "name": "ipython",
    "version": 3
   },
   "file_extension": ".py",
   "mimetype": "text/x-python",
   "name": "python",
   "nbconvert_exporter": "python",
   "pygments_lexer": "ipython3",
   "version": "3.10.6"
  },
  "orig_nbformat": 4,
  "vscode": {
   "interpreter": {
    "hash": "3bdefd094ccb8bd3365ae8c21bf36ef46047804461a4c589742842225130b2b8"
   }
  }
 },
 "nbformat": 4,
 "nbformat_minor": 2
}
